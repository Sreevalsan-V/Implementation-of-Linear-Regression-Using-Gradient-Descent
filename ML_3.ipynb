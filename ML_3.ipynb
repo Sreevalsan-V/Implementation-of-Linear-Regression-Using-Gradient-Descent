{
  "nbformat": 4,
  "nbformat_minor": 0,
  "metadata": {
    "colab": {
      "provenance": []
    },
    "kernelspec": {
      "name": "python3",
      "display_name": "Python 3"
    },
    "language_info": {
      "name": "python"
    }
  },
  "cells": [
    {
      "cell_type": "code",
      "execution_count": 3,
      "metadata": {
        "id": "_S0bk3q9Meyt"
      },
      "outputs": [],
      "source": [
        "import numpy as np\n",
        "import pandas as pd\n",
        "from sklearn.preprocessing import StandardScaler\n",
        "def linear_regression (X1, y, learning_rate=0.01, num_iters=1000):\n",
        "# Add a column of ones to x for the intercept term\n",
        "  X = np.c_[np.ones (len(X1)), X1]\n",
        "# Initialize theta with zeros\n",
        "  theta=np.zeros (X. shape [1]).reshape (-1,1)\n",
        "# Perform gradient descent\n",
        "  for _ in range(num_iters):\n",
        "# Calculate predictions\n",
        "    predictions = (X).dot (theta).reshape (-1, 1)\n",
        "# Calculate errors\n",
        "    errors= (predictions - y).reshape (-1,1)\n",
        "# Update theta using gradient descent\n",
        "    theta -= learning_rate * (1 / len(X1)) * X.T.dot (errors)\n",
        "  return theta"
      ]
    },
    {
      "cell_type": "code",
      "source": [
        "data = pd.read_csv ('50_Startups.csv',header=None)\n",
        "# Assuming the last column is your target variable 'y' and the preceding columns are your features 'X'\n",
        "X = (data.iloc [1:, :-2].values)\n",
        "X1=X.astype (float)\n",
        "scaler = StandardScaler()\n",
        "y = (data.iloc [1:,-1].values).reshape(-1,1)\n",
        "X1_Scaled = scaler.fit_transform (X1)\n",
        "Y1_Scaled = scaler.fit_transform (y)\n",
        "# Example usage\n",
        "#X = np.array([[1, 2], [3, 4], [5, 6], [7, 8]])\n",
        "#y= np.array([2, 7, 11, 16])\n",
        "# Learn model parameters\n",
        "theta = linear_regression (X1_Scaled, Y1_Scaled)\n",
        "# Predict target value for a new data point\n",
        "new_data = np.array([165349.2,136897.8,471784.1]).reshape (-1,1)\n",
        "new_Scaled = scaler.fit_transform(new_data)\n",
        "prediction =np.dot (np.append(1, new_Scaled), theta)\n",
        "prediction=prediction.reshape (-1,1)\n",
        "pre=scaler.inverse_transform(prediction)\n",
        "print (f\"Predicted value: {pre}\")\n"
      ],
      "metadata": {
        "colab": {
          "base_uri": "https://localhost:8080/"
        },
        "id": "b587oz-3Nyv0",
        "outputId": "6fa917b1-9bf3-4877-8fe1-e4a29dee70d2"
      },
      "execution_count": 8,
      "outputs": [
        {
          "output_type": "stream",
          "name": "stdout",
          "text": [
            "Predicted value: [[203866.53076613]]\n"
          ]
        }
      ]
    },
    {
      "cell_type": "code",
      "source": [],
      "metadata": {
        "id": "LQ8TUk5lObJc"
      },
      "execution_count": null,
      "outputs": []
    }
  ]
}